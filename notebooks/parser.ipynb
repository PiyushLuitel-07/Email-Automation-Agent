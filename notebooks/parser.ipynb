{
 "cells": [
  {
   "cell_type": "code",
   "execution_count": 1,
   "id": "05504f57",
   "metadata": {},
   "outputs": [],
   "source": [
    "import re\n",
    "from email import policy\n",
    "from email.parser import BytesParser\n",
    "\n",
    "def parse_email(raw_email_bytes):\n",
    "    \"\"\"\n",
    "    Parses real-life raw email bytes and returns a cleaned string (subject + body).\n",
    "    \n",
    "    Args:\n",
    "        raw_email_bytes (bytes): Raw email data from .eml file or email server.\n",
    "    \n",
    "    Returns:\n",
    "        str: Cleaned and combined subject and body text.\n",
    "    \"\"\"\n",
    "    # Parse the raw email bytes\n",
    "    msg = BytesParser(policy=policy.default).parsebytes(raw_email_bytes)\n",
    "\n",
    "    subject = msg['subject'] or ''\n",
    "    body = ''\n",
    "\n",
    "    # Extract plain text body\n",
    "    if msg.is_multipart():\n",
    "        for part in msg.walk():\n",
    "            if part.get_content_type() == 'text/plain' and not part.get_content_disposition():\n",
    "                body = part.get_content()\n",
    "                break\n",
    "    else:\n",
    "        body = msg.get_content()\n",
    "\n",
    "    # Cleaning function\n",
    "    def clean_text(text):\n",
    "        text = re.sub(r'http\\S+', '', text)            # Remove URLs\n",
    "        text = re.sub(r'\\s+', ' ', text)               # Normalize whitespace\n",
    "        text = re.sub(r'[^a-zA-Z0-9\\s]', '', text)     # Remove special characters\n",
    "        return text.strip().lower()\n",
    "\n",
    "    cleaned_subject = clean_text(subject)\n",
    "    cleaned_body = clean_text(body)\n",
    "\n",
    "    print(cleaned_subject)\n",
    "    print(cleaned_body)\n"
   ]
  },
  {
   "cell_type": "code",
   "execution_count": 3,
   "id": "a248797b",
   "metadata": {},
   "outputs": [
    {
     "name": "stdout",
     "output_type": "stream",
     "text": [
      "followup on project proposal\n",
      "hi jane just checking in regarding the project proposal we discussed last friday let me know if you need anything from my side thanks john\n"
     ]
    }
   ],
   "source": [
    "sample_email_bytes = b\"\"\"\\\n",
    "From: John Doe <john@example.com>\n",
    "To: Jane Smith <jane@example.com>\n",
    "Subject: Follow-up on Project Proposal\n",
    "MIME-Version: 1.0\n",
    "Content-Type: multipart/alternative; boundary=\"abc123\"\n",
    "\n",
    "--abc123\n",
    "Content-Type: text/plain; charset=\"UTF-8\"\n",
    "\n",
    "Hi Jane,\n",
    "\n",
    "Just checking in regarding the project proposal we discussed last Friday.\n",
    "Let me know if you need anything from my side.\n",
    "\n",
    "Thanks,\n",
    "John\n",
    "\n",
    "--abc123\n",
    "Content-Type: text/html; charset=\"UTF-8\"\n",
    "\n",
    "<html>\n",
    "  <body>\n",
    "    <p>Hi Jane,</p>\n",
    "    <p>Just checking in regarding the project proposal we discussed last Friday.</p>\n",
    "    <p>Let me know if you need anything from my side.</p>\n",
    "    <p>Thanks,<br>John</p>\n",
    "  </body>\n",
    "</html>\n",
    "\n",
    "--abc123--\n",
    "\"\"\"\n",
    "# Example usage\n",
    "parse_email(sample_email_bytes)"
   ]
  },
  {
   "cell_type": "code",
   "execution_count": null,
   "id": "250bd4fd",
   "metadata": {},
   "outputs": [],
   "source": [
    "    print(f\"Cleaned mail: {cleaned_subject} {cleaned_body}\")\n",
    "    return f\"{cleaned_subject} {cleaned_body}\""
   ]
  }
 ],
 "metadata": {
  "kernelspec": {
   "display_name": "myenv",
   "language": "python",
   "name": "python3"
  },
  "language_info": {
   "codemirror_mode": {
    "name": "ipython",
    "version": 3
   },
   "file_extension": ".py",
   "mimetype": "text/x-python",
   "name": "python",
   "nbconvert_exporter": "python",
   "pygments_lexer": "ipython3",
   "version": "3.10.14"
  }
 },
 "nbformat": 4,
 "nbformat_minor": 5
}
