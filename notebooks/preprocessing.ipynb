{
 "cells": [
  {
   "cell_type": "code",
   "execution_count": 1,
   "id": "b3e6e56e",
   "metadata": {},
   "outputs": [],
   "source": [
    "import pandas as pd\n",
    "import numpy as np"
   ]
  },
  {
   "cell_type": "code",
   "execution_count": 6,
   "id": "9b25fa18",
   "metadata": {},
   "outputs": [],
   "source": [
    "df1=pd.read_csv('../data/dataset.csv')"
   ]
  },
  {
   "cell_type": "code",
   "execution_count": 7,
   "id": "1fad9d9f",
   "metadata": {},
   "outputs": [
    {
     "data": {
      "text/html": [
       "<div>\n",
       "<style scoped>\n",
       "    .dataframe tbody tr th:only-of-type {\n",
       "        vertical-align: middle;\n",
       "    }\n",
       "\n",
       "    .dataframe tbody tr th {\n",
       "        vertical-align: top;\n",
       "    }\n",
       "\n",
       "    .dataframe thead th {\n",
       "        text-align: right;\n",
       "    }\n",
       "</style>\n",
       "<table border=\"1\" class=\"dataframe\">\n",
       "  <thead>\n",
       "    <tr style=\"text-align: right;\">\n",
       "      <th></th>\n",
       "      <th>subject</th>\n",
       "      <th>sender</th>\n",
       "      <th>receiver</th>\n",
       "      <th>timestamp</th>\n",
       "      <th>message_body</th>\n",
       "      <th>thread_id</th>\n",
       "      <th>email_types</th>\n",
       "      <th>email_status</th>\n",
       "      <th>email_criticality</th>\n",
       "      <th>product_types</th>\n",
       "      <th>agent_effectivity</th>\n",
       "      <th>agent_efficiency</th>\n",
       "      <th>customer_satisfaction</th>\n",
       "    </tr>\n",
       "  </thead>\n",
       "  <tbody>\n",
       "    <tr>\n",
       "      <th>0</th>\n",
       "      <td>Mercury Language Documentation Issue</td>\n",
       "      <td>john.doe@example.com</td>\n",
       "      <td>support@aetheros.com</td>\n",
       "      <td>2023-10-26 10:02:34+00:00</td>\n",
       "      <td>Hi Aetheros Support,\\n\\nI'm having trouble fin...</td>\n",
       "      <td>aa001-8e561ac9-8523-421f-9d05-e4c2a80a26d7</td>\n",
       "      <td>['inquiry']</td>\n",
       "      <td>ongoing</td>\n",
       "      <td>low</td>\n",
       "      <td>['Mercury Language']</td>\n",
       "      <td>high</td>\n",
       "      <td>very low</td>\n",
       "      <td>0.9043</td>\n",
       "    </tr>\n",
       "    <tr>\n",
       "      <th>1</th>\n",
       "      <td>Re: Mercury Language Documentation Issue</td>\n",
       "      <td>support@aetheros.com</td>\n",
       "      <td>john.doe@example.com</td>\n",
       "      <td>2023-10-27 14:15:22+00:00</td>\n",
       "      <td>Dear John,\\n\\nThank you for reaching out to Ae...</td>\n",
       "      <td>aa001-8e561ac9-8523-421f-9d05-e4c2a80a26d7</td>\n",
       "      <td>['inquiry']</td>\n",
       "      <td>ongoing</td>\n",
       "      <td>low</td>\n",
       "      <td>['Mercury Language']</td>\n",
       "      <td>high</td>\n",
       "      <td>very low</td>\n",
       "      <td>0.9043</td>\n",
       "    </tr>\n",
       "  </tbody>\n",
       "</table>\n",
       "</div>"
      ],
      "text/plain": [
       "                                    subject                sender  \\\n",
       "0      Mercury Language Documentation Issue  john.doe@example.com   \n",
       "1  Re: Mercury Language Documentation Issue  support@aetheros.com   \n",
       "\n",
       "               receiver                  timestamp  \\\n",
       "0  support@aetheros.com  2023-10-26 10:02:34+00:00   \n",
       "1  john.doe@example.com  2023-10-27 14:15:22+00:00   \n",
       "\n",
       "                                        message_body  \\\n",
       "0  Hi Aetheros Support,\\n\\nI'm having trouble fin...   \n",
       "1  Dear John,\\n\\nThank you for reaching out to Ae...   \n",
       "\n",
       "                                    thread_id  email_types email_status  \\\n",
       "0  aa001-8e561ac9-8523-421f-9d05-e4c2a80a26d7  ['inquiry']      ongoing   \n",
       "1  aa001-8e561ac9-8523-421f-9d05-e4c2a80a26d7  ['inquiry']      ongoing   \n",
       "\n",
       "  email_criticality         product_types agent_effectivity agent_efficiency  \\\n",
       "0               low  ['Mercury Language']              high         very low   \n",
       "1               low  ['Mercury Language']              high         very low   \n",
       "\n",
       "   customer_satisfaction  \n",
       "0                 0.9043  \n",
       "1                 0.9043  "
      ]
     },
     "execution_count": 7,
     "metadata": {},
     "output_type": "execute_result"
    }
   ],
   "source": [
    "df1.head(2)"
   ]
  },
  {
   "cell_type": "code",
   "execution_count": 62,
   "id": "84d5bd3f",
   "metadata": {},
   "outputs": [
    {
     "name": "stdout",
     "output_type": "stream",
     "text": [
      "<class 'pandas.core.frame.DataFrame'>\n",
      "RangeIndex: 2259 entries, 0 to 2258\n",
      "Data columns (total 13 columns):\n",
      " #   Column                 Non-Null Count  Dtype  \n",
      "---  ------                 --------------  -----  \n",
      " 0   subject                2259 non-null   object \n",
      " 1   sender                 2259 non-null   object \n",
      " 2   receiver               2259 non-null   object \n",
      " 3   timestamp              2259 non-null   object \n",
      " 4   message_body           2259 non-null   object \n",
      " 5   thread_id              2259 non-null   object \n",
      " 6   email_types            2259 non-null   object \n",
      " 7   email_status           2259 non-null   object \n",
      " 8   email_criticality      2259 non-null   object \n",
      " 9   product_types          2259 non-null   object \n",
      " 10  agent_effectivity      2259 non-null   object \n",
      " 11  agent_efficiency       2259 non-null   object \n",
      " 12  customer_satisfaction  2259 non-null   float64\n",
      "dtypes: float64(1), object(12)\n",
      "memory usage: 229.6+ KB\n"
     ]
    }
   ],
   "source": [
    "df1.info()"
   ]
  },
  {
   "cell_type": "code",
   "execution_count": 63,
   "id": "dda6cc0a",
   "metadata": {},
   "outputs": [
    {
     "data": {
      "text/plain": [
       "email_criticality\n",
       "high      934\n",
       "medium    666\n",
       "low       659\n",
       "Name: count, dtype: int64"
      ]
     },
     "execution_count": 63,
     "metadata": {},
     "output_type": "execute_result"
    }
   ],
   "source": [
    "df1.email_criticality.value_counts()"
   ]
  },
  {
   "cell_type": "code",
   "execution_count": 13,
   "id": "7caf7f7b",
   "metadata": {},
   "outputs": [
    {
     "data": {
      "text/html": [
       "<div>\n",
       "<style scoped>\n",
       "    .dataframe tbody tr th:only-of-type {\n",
       "        vertical-align: middle;\n",
       "    }\n",
       "\n",
       "    .dataframe tbody tr th {\n",
       "        vertical-align: top;\n",
       "    }\n",
       "\n",
       "    .dataframe thead th {\n",
       "        text-align: right;\n",
       "    }\n",
       "</style>\n",
       "<table border=\"1\" class=\"dataframe\">\n",
       "  <thead>\n",
       "    <tr style=\"text-align: right;\">\n",
       "      <th></th>\n",
       "      <th>subject</th>\n",
       "      <th>message_body</th>\n",
       "      <th>email_types</th>\n",
       "    </tr>\n",
       "  </thead>\n",
       "  <tbody>\n",
       "    <tr>\n",
       "      <th>0</th>\n",
       "      <td>Mercury Language Documentation Issue</td>\n",
       "      <td>Hi Aetheros Support,\\n\\nI'm having trouble fin...</td>\n",
       "      <td>['inquiry']</td>\n",
       "    </tr>\n",
       "    <tr>\n",
       "      <th>1</th>\n",
       "      <td>Re: Mercury Language Documentation Issue</td>\n",
       "      <td>Dear John,\\n\\nThank you for reaching out to Ae...</td>\n",
       "      <td>['inquiry']</td>\n",
       "    </tr>\n",
       "  </tbody>\n",
       "</table>\n",
       "</div>"
      ],
      "text/plain": [
       "                                    subject  \\\n",
       "0      Mercury Language Documentation Issue   \n",
       "1  Re: Mercury Language Documentation Issue   \n",
       "\n",
       "                                        message_body  email_types  \n",
       "0  Hi Aetheros Support,\\n\\nI'm having trouble fin...  ['inquiry']  \n",
       "1  Dear John,\\n\\nThank you for reaching out to Ae...  ['inquiry']  "
      ]
     },
     "execution_count": 13,
     "metadata": {},
     "output_type": "execute_result"
    }
   ],
   "source": [
    "selected_colums_for_email_type=['subject','message_body','email_types']\n",
    "df1_email_type=df1[selected_colums_for_email_type]\n",
    "df1_email_type.head(2)"
   ]
  },
  {
   "cell_type": "code",
   "execution_count": 15,
   "id": "535af995",
   "metadata": {},
   "outputs": [
    {
     "data": {
      "text/plain": [
       "(2259, 3)"
      ]
     },
     "execution_count": 15,
     "metadata": {},
     "output_type": "execute_result"
    }
   ],
   "source": [
    "df1_email_type.shape"
   ]
  },
  {
   "cell_type": "code",
   "execution_count": 17,
   "id": "72d4afa6",
   "metadata": {},
   "outputs": [
    {
     "name": "stdout",
     "output_type": "stream",
     "text": [
      "<class 'pandas.core.frame.DataFrame'>\n",
      "RangeIndex: 2259 entries, 0 to 2258\n",
      "Data columns (total 3 columns):\n",
      " #   Column        Non-Null Count  Dtype \n",
      "---  ------        --------------  ----- \n",
      " 0   subject       2259 non-null   object\n",
      " 1   message_body  2259 non-null   object\n",
      " 2   email_types   2259 non-null   object\n",
      "dtypes: object(3)\n",
      "memory usage: 53.1+ KB\n"
     ]
    }
   ],
   "source": [
    "df1_email_type.info()"
   ]
  },
  {
   "cell_type": "code",
   "execution_count": 19,
   "id": "585c5d08",
   "metadata": {},
   "outputs": [
    {
     "data": {
      "text/plain": [
       "\"Hi Aetheros Support,\\n\\nI'm having trouble finding clear documentation on how to implement custom error handling in Mercury. The examples in the current documentation seem outdated and don't align with the latest version I'm using.\\n\\nCould you please point me to the correct resources or provide some guidance on this?\\n\\nThanks,\\nJohn Doe\""
      ]
     },
     "execution_count": 19,
     "metadata": {},
     "output_type": "execute_result"
    }
   ],
   "source": [
    "df1_email_type['message_body'][0]"
   ]
  },
  {
   "cell_type": "code",
   "execution_count": 20,
   "id": "7ce71acd",
   "metadata": {},
   "outputs": [
    {
     "data": {
      "text/plain": [
       "email_types\n",
       "['issue']           1444\n",
       "['inquiry']          608\n",
       "['suggestion']       205\n",
       "['other matter']       2\n",
       "Name: count, dtype: int64"
      ]
     },
     "execution_count": 20,
     "metadata": {},
     "output_type": "execute_result"
    }
   ],
   "source": [
    "df1_email_type['email_types'].value_counts()"
   ]
  },
  {
   "cell_type": "code",
   "execution_count": 21,
   "id": "d5654642",
   "metadata": {},
   "outputs": [
    {
     "name": "stdout",
     "output_type": "stream",
     "text": [
      "email_types\n",
      "issue           1444\n",
      "inquiry          608\n",
      "suggestion       205\n",
      "other matter       2\n",
      "Name: count, dtype: int64\n"
     ]
    },
    {
     "name": "stderr",
     "output_type": "stream",
     "text": [
      "C:\\Users\\user\\AppData\\Local\\Temp\\ipykernel_19948\\805270242.py:2: SettingWithCopyWarning: \n",
      "A value is trying to be set on a copy of a slice from a DataFrame.\n",
      "Try using .loc[row_indexer,col_indexer] = value instead\n",
      "\n",
      "See the caveats in the documentation: https://pandas.pydata.org/pandas-docs/stable/user_guide/indexing.html#returning-a-view-versus-a-copy\n",
      "  df1_email_type['email_types'] = df1_email_type['email_types'].str.replace(r\"[\\[\\]']\", '', regex=True)\n"
     ]
    }
   ],
   "source": [
    "# Remove brackets and single quotes from string entries\n",
    "df1_email_type['email_types'] = df1_email_type['email_types'].str.replace(r\"[\\[\\]']\", '', regex=True)\n",
    "\n",
    "# Now check value counts again\n",
    "print(df1_email_type['email_types'].value_counts())\n"
   ]
  },
  {
   "cell_type": "code",
   "execution_count": 22,
   "id": "c65fc9b3",
   "metadata": {},
   "outputs": [
    {
     "name": "stdout",
     "output_type": "stream",
     "text": [
      "<class 'pandas.core.frame.DataFrame'>\n",
      "RangeIndex: 2259 entries, 0 to 2258\n",
      "Data columns (total 3 columns):\n",
      " #   Column        Non-Null Count  Dtype \n",
      "---  ------        --------------  ----- \n",
      " 0   subject       2259 non-null   object\n",
      " 1   message_body  2259 non-null   object\n",
      " 2   email_types   2259 non-null   object\n",
      "dtypes: object(3)\n",
      "memory usage: 53.1+ KB\n"
     ]
    }
   ],
   "source": [
    "df1_email_type.info()"
   ]
  },
  {
   "cell_type": "code",
   "execution_count": 23,
   "id": "1b1ba3aa",
   "metadata": {},
   "outputs": [
    {
     "data": {
      "text/plain": [
       "subject         0\n",
       "message_body    0\n",
       "email_types     0\n",
       "dtype: int64"
      ]
     },
     "execution_count": 23,
     "metadata": {},
     "output_type": "execute_result"
    }
   ],
   "source": [
    "df1_email_type.isnull().sum()"
   ]
  },
  {
   "cell_type": "code",
   "execution_count": 24,
   "id": "63e63de2",
   "metadata": {},
   "outputs": [
    {
     "data": {
      "text/html": [
       "<div>\n",
       "<style scoped>\n",
       "    .dataframe tbody tr th:only-of-type {\n",
       "        vertical-align: middle;\n",
       "    }\n",
       "\n",
       "    .dataframe tbody tr th {\n",
       "        vertical-align: top;\n",
       "    }\n",
       "\n",
       "    .dataframe thead th {\n",
       "        text-align: right;\n",
       "    }\n",
       "</style>\n",
       "<table border=\"1\" class=\"dataframe\">\n",
       "  <thead>\n",
       "    <tr style=\"text-align: right;\">\n",
       "      <th></th>\n",
       "      <th>subject</th>\n",
       "      <th>message_body</th>\n",
       "      <th>email_types</th>\n",
       "    </tr>\n",
       "  </thead>\n",
       "  <tbody>\n",
       "    <tr>\n",
       "      <th>0</th>\n",
       "      <td>Mercury Language Documentation Issue</td>\n",
       "      <td>Hi Aetheros Support,\\n\\nI'm having trouble fin...</td>\n",
       "      <td>inquiry</td>\n",
       "    </tr>\n",
       "    <tr>\n",
       "      <th>1</th>\n",
       "      <td>Re: Mercury Language Documentation Issue</td>\n",
       "      <td>Dear John,\\n\\nThank you for reaching out to Ae...</td>\n",
       "      <td>inquiry</td>\n",
       "    </tr>\n",
       "  </tbody>\n",
       "</table>\n",
       "</div>"
      ],
      "text/plain": [
       "                                    subject  \\\n",
       "0      Mercury Language Documentation Issue   \n",
       "1  Re: Mercury Language Documentation Issue   \n",
       "\n",
       "                                        message_body email_types  \n",
       "0  Hi Aetheros Support,\\n\\nI'm having trouble fin...     inquiry  \n",
       "1  Dear John,\\n\\nThank you for reaching out to Ae...     inquiry  "
      ]
     },
     "execution_count": 24,
     "metadata": {},
     "output_type": "execute_result"
    }
   ],
   "source": [
    "df1_email_type.head(2)"
   ]
  },
  {
   "cell_type": "code",
   "execution_count": 25,
   "id": "67523976",
   "metadata": {},
   "outputs": [
    {
     "name": "stdout",
     "output_type": "stream",
     "text": [
      "<class 'pandas.core.frame.DataFrame'>\n",
      "RangeIndex: 2259 entries, 0 to 2258\n",
      "Data columns (total 3 columns):\n",
      " #   Column        Non-Null Count  Dtype \n",
      "---  ------        --------------  ----- \n",
      " 0   subject       2259 non-null   object\n",
      " 1   message_body  2259 non-null   object\n",
      " 2   email_types   2259 non-null   object\n",
      "dtypes: object(3)\n",
      "memory usage: 53.1+ KB\n"
     ]
    }
   ],
   "source": [
    "df1_email_type.info()"
   ]
  },
  {
   "cell_type": "code",
   "execution_count": 26,
   "id": "e0061bfc",
   "metadata": {},
   "outputs": [
    {
     "name": "stderr",
     "output_type": "stream",
     "text": [
      "C:\\Users\\user\\AppData\\Local\\Temp\\ipykernel_19948\\2941825565.py:1: SettingWithCopyWarning: \n",
      "A value is trying to be set on a copy of a slice from a DataFrame.\n",
      "Try using .loc[row_indexer,col_indexer] = value instead\n",
      "\n",
      "See the caveats in the documentation: https://pandas.pydata.org/pandas-docs/stable/user_guide/indexing.html#returning-a-view-versus-a-copy\n",
      "  df1_email_type['text'] = df1_email_type['subject'] + ' ' + df1_email_type['message_body']\n"
     ]
    },
    {
     "data": {
      "text/html": [
       "<div>\n",
       "<style scoped>\n",
       "    .dataframe tbody tr th:only-of-type {\n",
       "        vertical-align: middle;\n",
       "    }\n",
       "\n",
       "    .dataframe tbody tr th {\n",
       "        vertical-align: top;\n",
       "    }\n",
       "\n",
       "    .dataframe thead th {\n",
       "        text-align: right;\n",
       "    }\n",
       "</style>\n",
       "<table border=\"1\" class=\"dataframe\">\n",
       "  <thead>\n",
       "    <tr style=\"text-align: right;\">\n",
       "      <th></th>\n",
       "      <th>subject</th>\n",
       "      <th>message_body</th>\n",
       "      <th>email_types</th>\n",
       "      <th>text</th>\n",
       "    </tr>\n",
       "  </thead>\n",
       "  <tbody>\n",
       "    <tr>\n",
       "      <th>0</th>\n",
       "      <td>Mercury Language Documentation Issue</td>\n",
       "      <td>Hi Aetheros Support,\\n\\nI'm having trouble fin...</td>\n",
       "      <td>inquiry</td>\n",
       "      <td>Mercury Language Documentation Issue Hi Aether...</td>\n",
       "    </tr>\n",
       "    <tr>\n",
       "      <th>1</th>\n",
       "      <td>Re: Mercury Language Documentation Issue</td>\n",
       "      <td>Dear John,\\n\\nThank you for reaching out to Ae...</td>\n",
       "      <td>inquiry</td>\n",
       "      <td>Re: Mercury Language Documentation Issue Dear ...</td>\n",
       "    </tr>\n",
       "  </tbody>\n",
       "</table>\n",
       "</div>"
      ],
      "text/plain": [
       "                                    subject  \\\n",
       "0      Mercury Language Documentation Issue   \n",
       "1  Re: Mercury Language Documentation Issue   \n",
       "\n",
       "                                        message_body email_types  \\\n",
       "0  Hi Aetheros Support,\\n\\nI'm having trouble fin...     inquiry   \n",
       "1  Dear John,\\n\\nThank you for reaching out to Ae...     inquiry   \n",
       "\n",
       "                                                text  \n",
       "0  Mercury Language Documentation Issue Hi Aether...  \n",
       "1  Re: Mercury Language Documentation Issue Dear ...  "
      ]
     },
     "execution_count": 26,
     "metadata": {},
     "output_type": "execute_result"
    }
   ],
   "source": [
    "df1_email_type['text'] = df1_email_type['subject'] + ' ' + df1_email_type['message_body']\n",
    "df1_email_type.head(2)"
   ]
  },
  {
   "cell_type": "code",
   "execution_count": 27,
   "id": "cf2fa424",
   "metadata": {},
   "outputs": [
    {
     "name": "stderr",
     "output_type": "stream",
     "text": [
      "C:\\Users\\user\\AppData\\Local\\Temp\\ipykernel_19948\\954875243.py:1: SettingWithCopyWarning: \n",
      "A value is trying to be set on a copy of a slice from a DataFrame\n",
      "\n",
      "See the caveats in the documentation: https://pandas.pydata.org/pandas-docs/stable/user_guide/indexing.html#returning-a-view-versus-a-copy\n",
      "  df1_email_type.drop(columns=['subject', 'message_body'], inplace=True)\n"
     ]
    },
    {
     "data": {
      "text/html": [
       "<div>\n",
       "<style scoped>\n",
       "    .dataframe tbody tr th:only-of-type {\n",
       "        vertical-align: middle;\n",
       "    }\n",
       "\n",
       "    .dataframe tbody tr th {\n",
       "        vertical-align: top;\n",
       "    }\n",
       "\n",
       "    .dataframe thead th {\n",
       "        text-align: right;\n",
       "    }\n",
       "</style>\n",
       "<table border=\"1\" class=\"dataframe\">\n",
       "  <thead>\n",
       "    <tr style=\"text-align: right;\">\n",
       "      <th></th>\n",
       "      <th>email_types</th>\n",
       "      <th>text</th>\n",
       "    </tr>\n",
       "  </thead>\n",
       "  <tbody>\n",
       "    <tr>\n",
       "      <th>0</th>\n",
       "      <td>inquiry</td>\n",
       "      <td>Mercury Language Documentation Issue Hi Aether...</td>\n",
       "    </tr>\n",
       "    <tr>\n",
       "      <th>1</th>\n",
       "      <td>inquiry</td>\n",
       "      <td>Re: Mercury Language Documentation Issue Dear ...</td>\n",
       "    </tr>\n",
       "  </tbody>\n",
       "</table>\n",
       "</div>"
      ],
      "text/plain": [
       "  email_types                                               text\n",
       "0     inquiry  Mercury Language Documentation Issue Hi Aether...\n",
       "1     inquiry  Re: Mercury Language Documentation Issue Dear ..."
      ]
     },
     "execution_count": 27,
     "metadata": {},
     "output_type": "execute_result"
    }
   ],
   "source": [
    "df1_email_type.drop(columns=['subject', 'message_body'], inplace=True)\n",
    "df1_email_type.head(2)"
   ]
  },
  {
   "cell_type": "code",
   "execution_count": 28,
   "id": "56b36d2d",
   "metadata": {},
   "outputs": [],
   "source": [
    "import re\n",
    "import nltk"
   ]
  },
  {
   "cell_type": "code",
   "execution_count": 29,
   "id": "f6447f5a",
   "metadata": {},
   "outputs": [
    {
     "name": "stderr",
     "output_type": "stream",
     "text": [
      "[nltk_data] Downloading package stopwords to\n",
      "[nltk_data]     C:\\Users\\user\\AppData\\Roaming\\nltk_data...\n",
      "[nltk_data]   Unzipping corpora\\stopwords.zip.\n"
     ]
    },
    {
     "data": {
      "text/plain": [
       "True"
      ]
     },
     "execution_count": 29,
     "metadata": {},
     "output_type": "execute_result"
    }
   ],
   "source": [
    "from nltk.corpus import stopwords\n",
    "nltk.download('stopwords')"
   ]
  },
  {
   "cell_type": "code",
   "execution_count": 30,
   "id": "5c650169",
   "metadata": {},
   "outputs": [],
   "source": [
    "stop_words = set(stopwords.words('english'))"
   ]
  },
  {
   "cell_type": "code",
   "execution_count": 31,
   "id": "5de04b9c",
   "metadata": {},
   "outputs": [
    {
     "name": "stderr",
     "output_type": "stream",
     "text": [
      "C:\\Users\\user\\AppData\\Local\\Temp\\ipykernel_19948\\3163316339.py:8: SettingWithCopyWarning: \n",
      "A value is trying to be set on a copy of a slice from a DataFrame.\n",
      "Try using .loc[row_indexer,col_indexer] = value instead\n",
      "\n",
      "See the caveats in the documentation: https://pandas.pydata.org/pandas-docs/stable/user_guide/indexing.html#returning-a-view-versus-a-copy\n",
      "  df1_email_type['text'] = df1_email_type['text'].apply(preprocess)\n"
     ]
    },
    {
     "data": {
      "text/html": [
       "<div>\n",
       "<style scoped>\n",
       "    .dataframe tbody tr th:only-of-type {\n",
       "        vertical-align: middle;\n",
       "    }\n",
       "\n",
       "    .dataframe tbody tr th {\n",
       "        vertical-align: top;\n",
       "    }\n",
       "\n",
       "    .dataframe thead th {\n",
       "        text-align: right;\n",
       "    }\n",
       "</style>\n",
       "<table border=\"1\" class=\"dataframe\">\n",
       "  <thead>\n",
       "    <tr style=\"text-align: right;\">\n",
       "      <th></th>\n",
       "      <th>email_types</th>\n",
       "      <th>text</th>\n",
       "    </tr>\n",
       "  </thead>\n",
       "  <tbody>\n",
       "    <tr>\n",
       "      <th>0</th>\n",
       "      <td>inquiry</td>\n",
       "      <td>mercury language documentation issue hi aether...</td>\n",
       "    </tr>\n",
       "    <tr>\n",
       "      <th>1</th>\n",
       "      <td>inquiry</td>\n",
       "      <td>mercury language documentation issue dear john...</td>\n",
       "    </tr>\n",
       "  </tbody>\n",
       "</table>\n",
       "</div>"
      ],
      "text/plain": [
       "  email_types                                               text\n",
       "0     inquiry  mercury language documentation issue hi aether...\n",
       "1     inquiry  mercury language documentation issue dear john..."
      ]
     },
     "execution_count": 31,
     "metadata": {},
     "output_type": "execute_result"
    }
   ],
   "source": [
    "def preprocess(text):\n",
    "    text = text.lower()\n",
    "    text = text.replace('\\n', ' ')  # replace newlines with space\n",
    "    text = re.sub(r'[^\\w\\s]', '', text)  # remove punctuation\n",
    "    text = ' '.join(word for word in text.split() if word not in stop_words)\n",
    "    return text\n",
    "\n",
    "df1_email_type['text'] = df1_email_type['text'].apply(preprocess)\n",
    "df1_email_type.head(2)\n"
   ]
  },
  {
   "cell_type": "code",
   "execution_count": 37,
   "id": "be852920",
   "metadata": {},
   "outputs": [
    {
     "data": {
      "text/plain": [
       "'mercury language documentation issue hi checking able find information need regarding custom error handling mercury 235 best john'"
      ]
     },
     "execution_count": 37,
     "metadata": {},
     "output_type": "execute_result"
    }
   ],
   "source": [
    "df1_email_type['text'][3]"
   ]
  },
  {
   "cell_type": "code",
   "execution_count": 38,
   "id": "7ba59a5c",
   "metadata": {},
   "outputs": [
    {
     "name": "stderr",
     "output_type": "stream",
     "text": [
      "C:\\Users\\user\\AppData\\Local\\Temp\\ipykernel_19948\\1290526636.py:1: SettingWithCopyWarning: \n",
      "A value is trying to be set on a copy of a slice from a DataFrame.\n",
      "Try using .loc[row_indexer,col_indexer] = value instead\n",
      "\n",
      "See the caveats in the documentation: https://pandas.pydata.org/pandas-docs/stable/user_guide/indexing.html#returning-a-view-versus-a-copy\n",
      "  df1_email_type['text'] = df1_email_type['text'].str.replace(\"'\", '', regex=False)\n"
     ]
    },
    {
     "data": {
      "text/html": [
       "<div>\n",
       "<style scoped>\n",
       "    .dataframe tbody tr th:only-of-type {\n",
       "        vertical-align: middle;\n",
       "    }\n",
       "\n",
       "    .dataframe tbody tr th {\n",
       "        vertical-align: top;\n",
       "    }\n",
       "\n",
       "    .dataframe thead th {\n",
       "        text-align: right;\n",
       "    }\n",
       "</style>\n",
       "<table border=\"1\" class=\"dataframe\">\n",
       "  <thead>\n",
       "    <tr style=\"text-align: right;\">\n",
       "      <th></th>\n",
       "      <th>email_types</th>\n",
       "      <th>text</th>\n",
       "    </tr>\n",
       "  </thead>\n",
       "  <tbody>\n",
       "    <tr>\n",
       "      <th>0</th>\n",
       "      <td>inquiry</td>\n",
       "      <td>mercury language documentation issue hi aether...</td>\n",
       "    </tr>\n",
       "    <tr>\n",
       "      <th>1</th>\n",
       "      <td>inquiry</td>\n",
       "      <td>mercury language documentation issue dear john...</td>\n",
       "    </tr>\n",
       "  </tbody>\n",
       "</table>\n",
       "</div>"
      ],
      "text/plain": [
       "  email_types                                               text\n",
       "0     inquiry  mercury language documentation issue hi aether...\n",
       "1     inquiry  mercury language documentation issue dear john..."
      ]
     },
     "execution_count": 38,
     "metadata": {},
     "output_type": "execute_result"
    }
   ],
   "source": [
    "df1_email_type['text'] = df1_email_type['text'].str.replace(\"'\", '', regex=False)\n",
    "df1_email_type.head(2)"
   ]
  },
  {
   "cell_type": "code",
   "execution_count": 39,
   "id": "62f1bc9a",
   "metadata": {},
   "outputs": [
    {
     "data": {
      "text/plain": [
       "email_types\n",
       "issue           1444\n",
       "inquiry          608\n",
       "suggestion       205\n",
       "other matter       2\n",
       "Name: count, dtype: int64"
      ]
     },
     "execution_count": 39,
     "metadata": {},
     "output_type": "execute_result"
    }
   ],
   "source": [
    "df1_email_type['email_types'].value_counts()"
   ]
  },
  {
   "cell_type": "code",
   "execution_count": 40,
   "id": "ee40a67c",
   "metadata": {},
   "outputs": [
    {
     "name": "stderr",
     "output_type": "stream",
     "text": [
      "C:\\Users\\user\\AppData\\Local\\Temp\\ipykernel_19948\\3329370551.py:8: SettingWithCopyWarning: \n",
      "A value is trying to be set on a copy of a slice from a DataFrame.\n",
      "Try using .loc[row_indexer,col_indexer] = value instead\n",
      "\n",
      "See the caveats in the documentation: https://pandas.pydata.org/pandas-docs/stable/user_guide/indexing.html#returning-a-view-versus-a-copy\n",
      "  df1_email_type['label'] = df1_email_type['email_types'].map(mapping)\n"
     ]
    },
    {
     "data": {
      "text/html": [
       "<div>\n",
       "<style scoped>\n",
       "    .dataframe tbody tr th:only-of-type {\n",
       "        vertical-align: middle;\n",
       "    }\n",
       "\n",
       "    .dataframe tbody tr th {\n",
       "        vertical-align: top;\n",
       "    }\n",
       "\n",
       "    .dataframe thead th {\n",
       "        text-align: right;\n",
       "    }\n",
       "</style>\n",
       "<table border=\"1\" class=\"dataframe\">\n",
       "  <thead>\n",
       "    <tr style=\"text-align: right;\">\n",
       "      <th></th>\n",
       "      <th>email_types</th>\n",
       "      <th>text</th>\n",
       "      <th>label</th>\n",
       "    </tr>\n",
       "  </thead>\n",
       "  <tbody>\n",
       "    <tr>\n",
       "      <th>0</th>\n",
       "      <td>inquiry</td>\n",
       "      <td>mercury language documentation issue hi aether...</td>\n",
       "      <td>1</td>\n",
       "    </tr>\n",
       "    <tr>\n",
       "      <th>1</th>\n",
       "      <td>inquiry</td>\n",
       "      <td>mercury language documentation issue dear john...</td>\n",
       "      <td>1</td>\n",
       "    </tr>\n",
       "  </tbody>\n",
       "</table>\n",
       "</div>"
      ],
      "text/plain": [
       "  email_types                                               text  label\n",
       "0     inquiry  mercury language documentation issue hi aether...      1\n",
       "1     inquiry  mercury language documentation issue dear john...      1"
      ]
     },
     "execution_count": 40,
     "metadata": {},
     "output_type": "execute_result"
    }
   ],
   "source": [
    "mapping = {\n",
    "    'issue': 0,\n",
    "    'inquiry': 1,\n",
    "    'suggestion': 2,\n",
    "    'other matter': 3\n",
    "}\n",
    "\n",
    "df1_email_type['label'] = df1_email_type['email_types'].map(mapping)\n",
    "df1_email_type.head(2)"
   ]
  },
  {
   "cell_type": "code",
   "execution_count": 42,
   "id": "2a525200",
   "metadata": {},
   "outputs": [
    {
     "data": {
      "text/html": [
       "<div>\n",
       "<style scoped>\n",
       "    .dataframe tbody tr th:only-of-type {\n",
       "        vertical-align: middle;\n",
       "    }\n",
       "\n",
       "    .dataframe tbody tr th {\n",
       "        vertical-align: top;\n",
       "    }\n",
       "\n",
       "    .dataframe thead th {\n",
       "        text-align: right;\n",
       "    }\n",
       "</style>\n",
       "<table border=\"1\" class=\"dataframe\">\n",
       "  <thead>\n",
       "    <tr style=\"text-align: right;\">\n",
       "      <th></th>\n",
       "      <th>text</th>\n",
       "      <th>label</th>\n",
       "    </tr>\n",
       "  </thead>\n",
       "  <tbody>\n",
       "    <tr>\n",
       "      <th>0</th>\n",
       "      <td>mercury language documentation issue hi aether...</td>\n",
       "      <td>1</td>\n",
       "    </tr>\n",
       "    <tr>\n",
       "      <th>1</th>\n",
       "      <td>mercury language documentation issue dear john...</td>\n",
       "      <td>1</td>\n",
       "    </tr>\n",
       "  </tbody>\n",
       "</table>\n",
       "</div>"
      ],
      "text/plain": [
       "                                                text  label\n",
       "0  mercury language documentation issue hi aether...      1\n",
       "1  mercury language documentation issue dear john...      1"
      ]
     },
     "execution_count": 42,
     "metadata": {},
     "output_type": "execute_result"
    }
   ],
   "source": [
    "df1_email_type=df1_email_type.drop(columns=['email_types'])\n",
    "df1_email_type.head(2)"
   ]
  },
  {
   "cell_type": "code",
   "execution_count": 43,
   "id": "17cbcb2b",
   "metadata": {},
   "outputs": [],
   "source": [
    "from sklearn.model_selection import train_test_split\n",
    "\n",
    "X = df1_email_type['text']\n",
    "y = df1_email_type['label']\n",
    "\n",
    "X_train, X_test, y_train, y_test = train_test_split(X, y, test_size=0.2, random_state=42)\n"
   ]
  },
  {
   "cell_type": "code",
   "execution_count": 44,
   "id": "749f15be",
   "metadata": {},
   "outputs": [],
   "source": [
    "from sklearn.feature_extraction.text import TfidfVectorizer\n",
    "\n",
    "vectorizer = TfidfVectorizer(max_features=5000)\n",
    "X_train_vec = vectorizer.fit_transform(X_train)\n",
    "X_test_vec = vectorizer.transform(X_test)\n"
   ]
  },
  {
   "cell_type": "code",
   "execution_count": 45,
   "id": "be419a65",
   "metadata": {},
   "outputs": [],
   "source": [
    "from sklearn.linear_model import LogisticRegression\n",
    "from sklearn.metrics import classification_report, accuracy_score\n",
    "\n",
    "model = LogisticRegression(max_iter=1000)\n",
    "model.fit(X_train_vec, y_train)\n",
    "\n",
    "y_pred = model.predict(X_test_vec)\n"
   ]
  },
  {
   "cell_type": "code",
   "execution_count": 47,
   "id": "2f2ab2fc",
   "metadata": {},
   "outputs": [
    {
     "name": "stdout",
     "output_type": "stream",
     "text": [
      "Accuracy: 0.838495575221239\n"
     ]
    }
   ],
   "source": [
    "print(\"Accuracy:\", accuracy_score(y_test, y_pred))"
   ]
  },
  {
   "cell_type": "code",
   "execution_count": 48,
   "id": "78baed8c",
   "metadata": {},
   "outputs": [
    {
     "data": {
      "text/plain": [
       "'issue'"
      ]
     },
     "execution_count": 48,
     "metadata": {},
     "output_type": "execute_result"
    }
   ],
   "source": [
    "# define a function to predict the email type from starting text\n",
    "def predict_email_type(starting_text):\n",
    "    # Preprocess the input text\n",
    "    processed_text = preprocess(starting_text)\n",
    "    \n",
    "    # Transform the text using the vectorizer\n",
    "    text_vec = vectorizer.transform([processed_text])\n",
    "    \n",
    "    # Predict the label\n",
    "    predicted_label = model.predict(text_vec)[0]\n",
    "    \n",
    "    # Map the label back to email type\n",
    "    for key, value in mapping.items():\n",
    "        if value == predicted_label:\n",
    "            return key\n",
    "        \n",
    "\n",
    "predict_email_type(\"Hello, I have an issue with my recent order. Can you help me resolve it?\")\n"
   ]
  },
  {
   "cell_type": "code",
   "execution_count": 50,
   "id": "07fa9748",
   "metadata": {},
   "outputs": [
    {
     "data": {
      "text/plain": [
       "'inquiry'"
      ]
     },
     "execution_count": 50,
     "metadata": {},
     "output_type": "execute_result"
    }
   ],
   "source": [
    "predict_email_type(\"I have a question about my account. Can you assist me?\")\n"
   ]
  },
  {
   "cell_type": "code",
   "execution_count": 51,
   "id": "2d038b67",
   "metadata": {},
   "outputs": [
    {
     "data": {
      "text/plain": [
       "'inquiry'"
      ]
     },
     "execution_count": 51,
     "metadata": {},
     "output_type": "execute_result"
    }
   ],
   "source": [
    "predict_email_type(\"I have a question about my account. Can you assist me?\")"
   ]
  },
  {
   "cell_type": "code",
   "execution_count": 52,
   "id": "821930f4",
   "metadata": {},
   "outputs": [
    {
     "data": {
      "text/plain": [
       "'suggestion'"
      ]
     },
     "execution_count": 52,
     "metadata": {},
     "output_type": "execute_result"
    }
   ],
   "source": [
    "predict_email_type(\"starting_text= I have a suggestion for improving your service. Would you like to hear it?\")"
   ]
  },
  {
   "cell_type": "code",
   "execution_count": 53,
   "id": "09b59b9f",
   "metadata": {},
   "outputs": [
    {
     "name": "stdout",
     "output_type": "stream",
     "text": [
      "SVM Accuracy: 0.834070796460177\n"
     ]
    }
   ],
   "source": [
    "# code to perfome svm\n",
    "from sklearn.svm import SVC\n",
    "svm_model = SVC(kernel='linear')\n",
    "svm_model.fit(X_train_vec, y_train)\n",
    "y_pred_svm = svm_model.predict(X_test_vec)\n",
    "print(\"SVM Accuracy:\", accuracy_score(y_test, y_pred_svm))"
   ]
  },
  {
   "cell_type": "code",
   "execution_count": 54,
   "id": "1f87547f",
   "metadata": {},
   "outputs": [
    {
     "name": "stdout",
     "output_type": "stream",
     "text": [
      "Random Forest Accuracy: 0.8252212389380531\n"
     ]
    }
   ],
   "source": [
    "# code to use random forest\n",
    "from sklearn.ensemble import RandomForestClassifier\n",
    "rf_model = RandomForestClassifier(n_estimators=100, random_state=42)\n",
    "rf_model.fit(X_train_vec, y_train)\n",
    "y_pred_rf = rf_model.predict(X_test_vec)\n",
    "print(\"Random Forest Accuracy:\", accuracy_score(y_test, y_pred_rf))"
   ]
  },
  {
   "cell_type": "code",
   "execution_count": 55,
   "id": "c06a1132",
   "metadata": {},
   "outputs": [
    {
     "data": {
      "text/plain": [
       "['../models/1_tfidf_vectorizer.pkl']"
      ]
     },
     "execution_count": 55,
     "metadata": {},
     "output_type": "execute_result"
    }
   ],
   "source": [
    "# code to sav the model and vectorizer\n",
    "import joblib\n",
    "joblib.dump(model, '../models/1_email_type_classifier.pkl')\n",
    "joblib.dump(vectorizer, '../models/1_tfidf_vectorizer.pkl')"
   ]
  },
  {
   "cell_type": "code",
   "execution_count": null,
   "id": "53f9e35e",
   "metadata": {},
   "outputs": [],
   "source": [
    "issue"
   ]
  },
  {
   "cell_type": "code",
   "execution_count": null,
   "id": "f7b4196e",
   "metadata": {},
   "outputs": [],
   "source": []
  },
  {
   "cell_type": "code",
   "execution_count": null,
   "id": "7762459b",
   "metadata": {},
   "outputs": [],
   "source": []
  },
  {
   "cell_type": "markdown",
   "id": "a0ab9017",
   "metadata": {},
   "source": [
    "## Function1"
   ]
  },
  {
   "cell_type": "code",
   "execution_count": 66,
   "id": "f25fc066",
   "metadata": {},
   "outputs": [],
   "source": [
    "# def a fucntion to load the model and vectorizer and predict the email type\n",
    "def load_model_and_predict(starting_text):\n",
    "    # Load the model and vectorizer\n",
    "    model = joblib.load('../models/1_email_type_classifier.pkl')\n",
    "    vectorizer = joblib.load('../models/1_tfidf_vectorizer_email_type_classifier.pkl')\n",
    "    \n",
    "    # Preprocess the input text\n",
    "    processed_text = preprocess(starting_text)\n",
    "    \n",
    "    # Transform the text using the vectorizer\n",
    "    text_vec = vectorizer.transform([processed_text])\n",
    "    \n",
    "    # Predict the label\n",
    "    predicted_label = model.predict(text_vec)[0]\n",
    "\n",
    "    mapping = {\n",
    "    'issue': 0,\n",
    "    'inquiry': 1,\n",
    "    'suggestion': 2,\n",
    "    'other matter': 3\n",
    "    }\n",
    "    \n",
    "    # Map the label back to email type\n",
    "    for key, value in mapping.items():\n",
    "        if value == predicted_label:\n",
    "            return key"
   ]
  },
  {
   "cell_type": "code",
   "execution_count": 67,
   "id": "12901a4b",
   "metadata": {},
   "outputs": [
    {
     "data": {
      "text/plain": [
       "'issue'"
      ]
     },
     "execution_count": 67,
     "metadata": {},
     "output_type": "execute_result"
    }
   ],
   "source": [
    "load_model_and_predict(\"Hello, I have an issue with my recent order. Can you help me resolve it?\")"
   ]
  },
  {
   "cell_type": "code",
   "execution_count": 68,
   "id": "9eef2b5b",
   "metadata": {},
   "outputs": [
    {
     "data": {
      "text/plain": [
       "'issue'"
      ]
     },
     "execution_count": 68,
     "metadata": {},
     "output_type": "execute_result"
    }
   ],
   "source": [
    "load_model_and_predict(\"I wan you to suggest me some good books to read this summer.\")"
   ]
  },
  {
   "cell_type": "code",
   "execution_count": 69,
   "id": "ccddb1b2",
   "metadata": {},
   "outputs": [
    {
     "data": {
      "text/plain": [
       "'inquiry'"
      ]
     },
     "execution_count": 69,
     "metadata": {},
     "output_type": "execute_result"
    }
   ],
   "source": [
    "inquiry_text = \"I have a question about my account. Can you assist me?\"\n",
    "load_model_and_predict(inquiry_text)"
   ]
  },
  {
   "cell_type": "code",
   "execution_count": 70,
   "id": "c29ce64a",
   "metadata": {},
   "outputs": [
    {
     "data": {
      "text/plain": [
       "'suggestion'"
      ]
     },
     "execution_count": 70,
     "metadata": {},
     "output_type": "execute_result"
    }
   ],
   "source": [
    "suggestion_text = \"I have a suggestion for improving your service. Would you like to hear it?\"\n",
    "load_model_and_predict(suggestion_text)"
   ]
  },
  {
   "cell_type": "code",
   "execution_count": 61,
   "id": "5e3d4be2",
   "metadata": {},
   "outputs": [
    {
     "data": {
      "text/plain": [
       "'issue'"
      ]
     },
     "execution_count": 61,
     "metadata": {},
     "output_type": "execute_result"
    }
   ],
   "source": [
    "issue_text = \"I have an problme with my recent order. Can you help me resolve it?\"\n",
    "load_model_and_predict(issue_text)"
   ]
  },
  {
   "cell_type": "code",
   "execution_count": 64,
   "id": "0ca844fa",
   "metadata": {},
   "outputs": [
    {
     "data": {
      "text/html": [
       "<div>\n",
       "<style scoped>\n",
       "    .dataframe tbody tr th:only-of-type {\n",
       "        vertical-align: middle;\n",
       "    }\n",
       "\n",
       "    .dataframe tbody tr th {\n",
       "        vertical-align: top;\n",
       "    }\n",
       "\n",
       "    .dataframe thead th {\n",
       "        text-align: right;\n",
       "    }\n",
       "</style>\n",
       "<table border=\"1\" class=\"dataframe\">\n",
       "  <thead>\n",
       "    <tr style=\"text-align: right;\">\n",
       "      <th></th>\n",
       "      <th>text</th>\n",
       "      <th>label</th>\n",
       "      <th>email_criticality</th>\n",
       "    </tr>\n",
       "  </thead>\n",
       "  <tbody>\n",
       "    <tr>\n",
       "      <th>0</th>\n",
       "      <td>mercury language documentation issue hi aether...</td>\n",
       "      <td>1</td>\n",
       "      <td>low</td>\n",
       "    </tr>\n",
       "    <tr>\n",
       "      <th>1</th>\n",
       "      <td>mercury language documentation issue dear john...</td>\n",
       "      <td>1</td>\n",
       "      <td>low</td>\n",
       "    </tr>\n",
       "  </tbody>\n",
       "</table>\n",
       "</div>"
      ],
      "text/plain": [
       "                                                text  label email_criticality\n",
       "0  mercury language documentation issue hi aether...      1               low\n",
       "1  mercury language documentation issue dear john...      1               low"
      ]
     },
     "execution_count": 64,
     "metadata": {},
     "output_type": "execute_result"
    }
   ],
   "source": [
    "#create a new df named def1_emai_criticality by combining df1_email_type and df1['email_criticality]\n",
    "df1_email_criticality = df1_email_type.copy()\n",
    "df1_email_criticality['email_criticality'] = df1['email_criticality']\n",
    "df1_email_criticality.head(2)"
   ]
  },
  {
   "cell_type": "code",
   "execution_count": 65,
   "id": "df1d219a",
   "metadata": {},
   "outputs": [
    {
     "data": {
      "text/plain": [
       "email_criticality\n",
       "high      934\n",
       "medium    666\n",
       "low       659\n",
       "Name: count, dtype: int64"
      ]
     },
     "execution_count": 65,
     "metadata": {},
     "output_type": "execute_result"
    }
   ],
   "source": [
    "df1['email_criticality'].value_counts()"
   ]
  },
  {
   "cell_type": "code",
   "execution_count": 71,
   "id": "b8b5374e",
   "metadata": {},
   "outputs": [
    {
     "data": {
      "text/html": [
       "<div>\n",
       "<style scoped>\n",
       "    .dataframe tbody tr th:only-of-type {\n",
       "        vertical-align: middle;\n",
       "    }\n",
       "\n",
       "    .dataframe tbody tr th {\n",
       "        vertical-align: top;\n",
       "    }\n",
       "\n",
       "    .dataframe thead th {\n",
       "        text-align: right;\n",
       "    }\n",
       "</style>\n",
       "<table border=\"1\" class=\"dataframe\">\n",
       "  <thead>\n",
       "    <tr style=\"text-align: right;\">\n",
       "      <th></th>\n",
       "      <th>text</th>\n",
       "      <th>label</th>\n",
       "      <th>email_criticality</th>\n",
       "    </tr>\n",
       "  </thead>\n",
       "  <tbody>\n",
       "    <tr>\n",
       "      <th>0</th>\n",
       "      <td>mercury language documentation issue hi aether...</td>\n",
       "      <td>1</td>\n",
       "      <td>1</td>\n",
       "    </tr>\n",
       "    <tr>\n",
       "      <th>1</th>\n",
       "      <td>mercury language documentation issue dear john...</td>\n",
       "      <td>1</td>\n",
       "      <td>1</td>\n",
       "    </tr>\n",
       "  </tbody>\n",
       "</table>\n",
       "</div>"
      ],
      "text/plain": [
       "                                                text  label  email_criticality\n",
       "0  mercury language documentation issue hi aether...      1                  1\n",
       "1  mercury language documentation issue dear john...      1                  1"
      ]
     },
     "execution_count": 71,
     "metadata": {},
     "output_type": "execute_result"
    }
   ],
   "source": [
    "mapping2= {\n",
    "    'high': 3,\n",
    "    'medium': 2,\n",
    "    'low': 1\n",
    "}\n",
    "\n",
    "df1_email_criticality['email_criticality'] = df1_email_criticality['email_criticality'].map(mapping2)\n",
    "df1_email_criticality.head(2)"
   ]
  },
  {
   "cell_type": "code",
   "execution_count": 74,
   "id": "35a09fa7",
   "metadata": {},
   "outputs": [],
   "source": [
    "df1_email_criticality.rename(columns={'email_criticality': 'urgency'}, inplace=True)"
   ]
  },
  {
   "cell_type": "code",
   "execution_count": 75,
   "id": "89053272",
   "metadata": {},
   "outputs": [],
   "source": [
    "df1_email_criticality.rename(columns={'label': 'email_type'}, inplace=True)"
   ]
  },
  {
   "cell_type": "code",
   "execution_count": 76,
   "id": "33af24ca",
   "metadata": {},
   "outputs": [
    {
     "data": {
      "text/html": [
       "<div>\n",
       "<style scoped>\n",
       "    .dataframe tbody tr th:only-of-type {\n",
       "        vertical-align: middle;\n",
       "    }\n",
       "\n",
       "    .dataframe tbody tr th {\n",
       "        vertical-align: top;\n",
       "    }\n",
       "\n",
       "    .dataframe thead th {\n",
       "        text-align: right;\n",
       "    }\n",
       "</style>\n",
       "<table border=\"1\" class=\"dataframe\">\n",
       "  <thead>\n",
       "    <tr style=\"text-align: right;\">\n",
       "      <th></th>\n",
       "      <th>text</th>\n",
       "      <th>email_type</th>\n",
       "      <th>urgency</th>\n",
       "    </tr>\n",
       "  </thead>\n",
       "  <tbody>\n",
       "    <tr>\n",
       "      <th>0</th>\n",
       "      <td>mercury language documentation issue hi aether...</td>\n",
       "      <td>1</td>\n",
       "      <td>1</td>\n",
       "    </tr>\n",
       "    <tr>\n",
       "      <th>1</th>\n",
       "      <td>mercury language documentation issue dear john...</td>\n",
       "      <td>1</td>\n",
       "      <td>1</td>\n",
       "    </tr>\n",
       "  </tbody>\n",
       "</table>\n",
       "</div>"
      ],
      "text/plain": [
       "                                                text  email_type  urgency\n",
       "0  mercury language documentation issue hi aether...           1        1\n",
       "1  mercury language documentation issue dear john...           1        1"
      ]
     },
     "execution_count": 76,
     "metadata": {},
     "output_type": "execute_result"
    }
   ],
   "source": [
    "df1_email_criticality.head(2)"
   ]
  },
  {
   "cell_type": "code",
   "execution_count": 84,
   "id": "90dcc224",
   "metadata": {},
   "outputs": [],
   "source": [
    "# drop email_types column\n",
    "df1_email_criticality.drop(columns=['email_type'], inplace=True)"
   ]
  },
  {
   "cell_type": "code",
   "execution_count": 92,
   "id": "ded72672",
   "metadata": {},
   "outputs": [],
   "source": [
    "#sva e the df1_email_criticality to csv\n",
    "df1_email_criticality.to_csv('../data/df1_email_criticality.csv', index=False)"
   ]
  },
  {
   "cell_type": "code",
   "execution_count": 118,
   "id": "38656560",
   "metadata": {},
   "outputs": [
    {
     "data": {
      "text/html": [
       "<div>\n",
       "<style scoped>\n",
       "    .dataframe tbody tr th:only-of-type {\n",
       "        vertical-align: middle;\n",
       "    }\n",
       "\n",
       "    .dataframe tbody tr th {\n",
       "        vertical-align: top;\n",
       "    }\n",
       "\n",
       "    .dataframe thead th {\n",
       "        text-align: right;\n",
       "    }\n",
       "</style>\n",
       "<table border=\"1\" class=\"dataframe\">\n",
       "  <thead>\n",
       "    <tr style=\"text-align: right;\">\n",
       "      <th></th>\n",
       "      <th>text</th>\n",
       "      <th>urgency</th>\n",
       "      <th>label</th>\n",
       "    </tr>\n",
       "  </thead>\n",
       "  <tbody>\n",
       "    <tr>\n",
       "      <th>0</th>\n",
       "      <td>mercury language documentation issue hi aether...</td>\n",
       "      <td>1</td>\n",
       "      <td>1</td>\n",
       "    </tr>\n",
       "    <tr>\n",
       "      <th>1</th>\n",
       "      <td>mercury language documentation issue dear john...</td>\n",
       "      <td>1</td>\n",
       "      <td>1</td>\n",
       "    </tr>\n",
       "  </tbody>\n",
       "</table>\n",
       "</div>"
      ],
      "text/plain": [
       "                                                text  urgency  label\n",
       "0  mercury language documentation issue hi aether...        1      1\n",
       "1  mercury language documentation issue dear john...        1      1"
      ]
     },
     "execution_count": 118,
     "metadata": {},
     "output_type": "execute_result"
    }
   ],
   "source": [
    "# add a nwe colum named label from df1_email_type to df1_email_criticality\n",
    "df1_email_criticality['label'] = df1_email_type['label']\n",
    "\n",
    "df1_email_criticality.head(2)"
   ]
  },
  {
   "cell_type": "code",
   "execution_count": 119,
   "id": "be29785b",
   "metadata": {},
   "outputs": [],
   "source": [
    "#rename label column to email_type\n",
    "df1_email_criticality.rename(columns={'label': 'email_type'}, inplace=True)\n",
    "# save the df1_email_criticality to csv\n",
    "df1_email_criticality.to_csv('../data/df1_email_criticality.csv', index=False)"
   ]
  },
  {
   "cell_type": "code",
   "execution_count": 77,
   "id": "8690f001",
   "metadata": {},
   "outputs": [
    {
     "data": {
      "text/plain": [
       "urgency\n",
       "3    934\n",
       "2    666\n",
       "1    659\n",
       "Name: count, dtype: int64"
      ]
     },
     "execution_count": 77,
     "metadata": {},
     "output_type": "execute_result"
    }
   ],
   "source": [
    "df1_email_criticality['urgency'].value_counts()"
   ]
  },
  {
   "cell_type": "code",
   "execution_count": 120,
   "id": "ba3f73b9",
   "metadata": {},
   "outputs": [
    {
     "data": {
      "text/html": [
       "<div>\n",
       "<style scoped>\n",
       "    .dataframe tbody tr th:only-of-type {\n",
       "        vertical-align: middle;\n",
       "    }\n",
       "\n",
       "    .dataframe tbody tr th {\n",
       "        vertical-align: top;\n",
       "    }\n",
       "\n",
       "    .dataframe thead th {\n",
       "        text-align: right;\n",
       "    }\n",
       "</style>\n",
       "<table border=\"1\" class=\"dataframe\">\n",
       "  <thead>\n",
       "    <tr style=\"text-align: right;\">\n",
       "      <th></th>\n",
       "      <th>text</th>\n",
       "      <th>urgency</th>\n",
       "      <th>email_type</th>\n",
       "    </tr>\n",
       "  </thead>\n",
       "  <tbody>\n",
       "    <tr>\n",
       "      <th>0</th>\n",
       "      <td>mercury language documentation issue hi aether...</td>\n",
       "      <td>1</td>\n",
       "      <td>1</td>\n",
       "    </tr>\n",
       "    <tr>\n",
       "      <th>1</th>\n",
       "      <td>mercury language documentation issue dear john...</td>\n",
       "      <td>1</td>\n",
       "      <td>1</td>\n",
       "    </tr>\n",
       "  </tbody>\n",
       "</table>\n",
       "</div>"
      ],
      "text/plain": [
       "                                                text  urgency  email_type\n",
       "0  mercury language documentation issue hi aether...        1           1\n",
       "1  mercury language documentation issue dear john...        1           1"
      ]
     },
     "execution_count": 120,
     "metadata": {},
     "output_type": "execute_result"
    }
   ],
   "source": [
    "df1_email_criticality.head(2)"
   ]
  },
  {
   "cell_type": "code",
   "execution_count": 93,
   "id": "46d82321",
   "metadata": {},
   "outputs": [
    {
     "data": {
      "text/html": [
       "<div>\n",
       "<style scoped>\n",
       "    .dataframe tbody tr th:only-of-type {\n",
       "        vertical-align: middle;\n",
       "    }\n",
       "\n",
       "    .dataframe tbody tr th {\n",
       "        vertical-align: top;\n",
       "    }\n",
       "\n",
       "    .dataframe thead th {\n",
       "        text-align: right;\n",
       "    }\n",
       "</style>\n",
       "<table border=\"1\" class=\"dataframe\">\n",
       "  <thead>\n",
       "    <tr style=\"text-align: right;\">\n",
       "      <th></th>\n",
       "      <th>text</th>\n",
       "      <th>urgency</th>\n",
       "    </tr>\n",
       "  </thead>\n",
       "  <tbody>\n",
       "    <tr>\n",
       "      <th>0</th>\n",
       "      <td>mercury language documentation issue hi aether...</td>\n",
       "      <td>1</td>\n",
       "    </tr>\n",
       "    <tr>\n",
       "      <th>1</th>\n",
       "      <td>mercury language documentation issue dear john...</td>\n",
       "      <td>1</td>\n",
       "    </tr>\n",
       "  </tbody>\n",
       "</table>\n",
       "</div>"
      ],
      "text/plain": [
       "                                                text  urgency\n",
       "0  mercury language documentation issue hi aether...        1\n",
       "1  mercury language documentation issue dear john...        1"
      ]
     },
     "execution_count": 93,
     "metadata": {},
     "output_type": "execute_result"
    }
   ],
   "source": [
    "df1_email_criticality.head(2)"
   ]
  },
  {
   "cell_type": "code",
   "execution_count": 121,
   "id": "b990ef2b",
   "metadata": {},
   "outputs": [
    {
     "data": {
      "text/html": [
       "<div>\n",
       "<style scoped>\n",
       "    .dataframe tbody tr th:only-of-type {\n",
       "        vertical-align: middle;\n",
       "    }\n",
       "\n",
       "    .dataframe tbody tr th {\n",
       "        vertical-align: top;\n",
       "    }\n",
       "\n",
       "    .dataframe thead th {\n",
       "        text-align: right;\n",
       "    }\n",
       "</style>\n",
       "<table border=\"1\" class=\"dataframe\">\n",
       "  <thead>\n",
       "    <tr style=\"text-align: right;\">\n",
       "      <th></th>\n",
       "      <th>text</th>\n",
       "      <th>urgency</th>\n",
       "      <th>email_type</th>\n",
       "    </tr>\n",
       "  </thead>\n",
       "  <tbody>\n",
       "    <tr>\n",
       "      <th>0</th>\n",
       "      <td>mercury language documentation issue hi aether...</td>\n",
       "      <td>1</td>\n",
       "      <td>1</td>\n",
       "    </tr>\n",
       "    <tr>\n",
       "      <th>1</th>\n",
       "      <td>mercury language documentation issue dear john...</td>\n",
       "      <td>1</td>\n",
       "      <td>1</td>\n",
       "    </tr>\n",
       "  </tbody>\n",
       "</table>\n",
       "</div>"
      ],
      "text/plain": [
       "                                                text  urgency  email_type\n",
       "0  mercury language documentation issue hi aether...        1           1\n",
       "1  mercury language documentation issue dear john...        1           1"
      ]
     },
     "execution_count": 121,
     "metadata": {},
     "output_type": "execute_result"
    }
   ],
   "source": [
    "df1_email_criticality.head(2)"
   ]
  },
  {
   "cell_type": "code",
   "execution_count": null,
   "id": "db676861",
   "metadata": {},
   "outputs": [],
   "source": [
    "from sklearn.model_selection import train_test_split\n",
    "\n",
    "\n",
    "X = df1_email_criticality[['text', 'email_type']]\n",
    "y = df1_email_criticality['urgency']\n",
    "\n",
    "X_train, X_test, y_train, y_test = train_test_split(\n",
    "    X, y, test_size=0.2, random_state=42, stratify=y)"
   ]
  },
  {
   "cell_type": "code",
   "execution_count": 127,
   "id": "e862f842",
   "metadata": {},
   "outputs": [],
   "source": [
    "# 3. TF-IDF Vectorizer\n",
    "tfidf = TfidfVectorizer()\n",
    "X_train_text = tfidf.fit_transform(X_train['text'])\n",
    "X_test_text = tfidf.transform(X_test['text'])"
   ]
  },
  {
   "cell_type": "code",
   "execution_count": 129,
   "id": "df2d92c1",
   "metadata": {},
   "outputs": [],
   "source": [
    "#import hstack\n",
    "from scipy.sparse import hstack\n",
    "# 4. Combine TF-IDF text with email_type\n",
    "X_train_email_type = X_train['email_type'].values.reshape(-1, 1)\n",
    "X_test_email_type = X_test['email_type'].values.reshape(-1, 1)\n",
    "\n",
    "X_train_final = hstack([X_train_text, X_train_email_type])\n",
    "X_test_final = hstack([X_test_text, X_test_email_type])\n"
   ]
  },
  {
   "cell_type": "code",
   "execution_count": 130,
   "id": "a850eb24",
   "metadata": {},
   "outputs": [],
   "source": [
    "# 5. Logistic Regression\n",
    "model = LogisticRegression(max_iter=1000)\n",
    "model.fit(X_train_final, y_train)\n",
    "\n",
    "# 6. Predictions\n",
    "y_pred = model.predict(X_test_final)"
   ]
  },
  {
   "cell_type": "code",
   "execution_count": 131,
   "id": "95c0b01e",
   "metadata": {},
   "outputs": [
    {
     "name": "stdout",
     "output_type": "stream",
     "text": [
      "Accuracy: 0.7721238938053098\n"
     ]
    }
   ],
   "source": [
    "# 7. Evaluation\n",
    "print(\"Accuracy:\", accuracy_score(y_test, y_pred))"
   ]
  },
  {
   "cell_type": "code",
   "execution_count": 132,
   "id": "a3736c80",
   "metadata": {},
   "outputs": [
    {
     "data": {
      "text/plain": [
       "['../models/2_tfidf_vectorizer_email_criticality_classifier.pkl']"
      ]
     },
     "execution_count": 132,
     "metadata": {},
     "output_type": "execute_result"
    }
   ],
   "source": [
    "# save the model and vectorizer\n",
    "import joblib\n",
    "joblib.dump(model, '../models/2_email_criticality_classifier.pkl')\n",
    "joblib.dump(tfidf, '../models/2_tfidf_vectorizer_email_criticality_classifier.pkl')\n"
   ]
  },
  {
   "cell_type": "markdown",
   "id": "2269298b",
   "metadata": {},
   "source": [
    "## Function2"
   ]
  },
  {
   "cell_type": "code",
   "execution_count": 135,
   "id": "aa94a3f7",
   "metadata": {},
   "outputs": [],
   "source": [
    "from scipy.sparse import csr_matrix"
   ]
  },
  {
   "cell_type": "code",
   "execution_count": 138,
   "id": "016ac4ba",
   "metadata": {},
   "outputs": [],
   "source": [
    "#function to load the model and vectorizer and predict the email criticality\n",
    "def load_model_and_predict_criticality(starting_text, email_type):\n",
    "    # Load the model and vectorizer\n",
    "    model = joblib.load('../models/2_email_criticality_classifier.pkl')\n",
    "    tfidf = joblib.load('../models/2_tfidf_vectorizer_email_criticality_classifier.pkl')\n",
    "    \n",
    "    # Preprocess the input text\n",
    "    processed_text = preprocess(starting_text)\n",
    "    \n",
    "    # Transform the text using the vectorizer\n",
    "    text_vec = tfidf.transform([processed_text])\n",
    "    \n",
    "    # Prepare email type for prediction\n",
    "    email_type_vec = csr_matrix([[email_type]])\n",
    "    \n",
    "    # Combine text vector and email type\n",
    "    final_vec = hstack([text_vec, email_type_vec])\n",
    "    \n",
    "    # Predict the urgency\n",
    "    predicted_urgency = model.predict(final_vec)[0]\n",
    "\n",
    "    # Map the urgency back to its original label\n",
    "    urgency_mapping = {1: 'low', 2: 'medium', 3: 'high'}\n",
    "    predicted_urgency = urgency_mapping.get(predicted_urgency, 'unknown')\n",
    "    \n",
    "    \n",
    "    return predicted_urgency"
   ]
  },
  {
   "cell_type": "code",
   "execution_count": 140,
   "id": "95173f0b",
   "metadata": {},
   "outputs": [
    {
     "data": {
      "text/plain": [
       "'high'"
      ]
     },
     "execution_count": 140,
     "metadata": {},
     "output_type": "execute_result"
    }
   ],
   "source": [
    "load_model_and_predict_criticality(\"I have an issue with my recent order. Can you help me resolve it?\", 0)"
   ]
  },
  {
   "cell_type": "code",
   "execution_count": null,
   "id": "4de9ce7d",
   "metadata": {},
   "outputs": [],
   "source": []
  }
 ],
 "metadata": {
  "kernelspec": {
   "display_name": "myenv",
   "language": "python",
   "name": "python3"
  },
  "language_info": {
   "codemirror_mode": {
    "name": "ipython",
    "version": 3
   },
   "file_extension": ".py",
   "mimetype": "text/x-python",
   "name": "python",
   "nbconvert_exporter": "python",
   "pygments_lexer": "ipython3",
   "version": "3.10.14"
  }
 },
 "nbformat": 4,
 "nbformat_minor": 5
}
